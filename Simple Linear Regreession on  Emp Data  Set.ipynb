{
 "cells": [
  {
   "cell_type": "code",
   "execution_count": 6,
   "metadata": {},
   "outputs": [],
   "source": [
    "# For reading data set\n",
    "# importing necessary libraries\n",
    "import pandas as pd \n",
    "import numpy as np\n",
    "import matplotlib.pyplot as plt\n",
    "emp=pd.read_csv(\"emp_data.csv\")"
   ]
  },
  {
   "cell_type": "code",
   "execution_count": 10,
   "metadata": {},
   "outputs": [
    {
     "data": {
      "text/plain": [
       "Index(['Salary_hike', 'Churn_out_rate'], dtype='object')"
      ]
     },
     "execution_count": 10,
     "metadata": {},
     "output_type": "execute_result"
    }
   ],
   "source": [
    "emp.columns"
   ]
  },
  {
   "cell_type": "code",
   "execution_count": 14,
   "metadata": {},
   "outputs": [
    {
     "data": {
      "text/plain": [
       "(array([2., 1., 2., 1., 1., 1., 0., 1., 0., 1.]),\n",
       " array([1580., 1609., 1638., 1667., 1696., 1725., 1754., 1783., 1812.,\n",
       "        1841., 1870.]),\n",
       " <a list of 10 Patch objects>)"
      ]
     },
     "execution_count": 14,
     "metadata": {},
     "output_type": "execute_result"
    },
    {
     "data": {
      "image/png": "[encoded data removed]",
      "text/plain": [
       "<Figure size 432x288 with 1 Axes>"
      ]
     },
     "metadata": {
      "needs_background": "light"
     },
     "output_type": "display_data"
    }
   ],
   "source": [
    "plt.hist(emp.Salary_hike)"
   ]
  },
  {
   "cell_type": "code",
   "execution_count": 15,
   "metadata": {},
   "outputs": [
    {
     "data": {
      "text/plain": [
       "(array([2., 1., 1., 2., 1., 0., 1., 1., 0., 1.]),\n",
       " array([60. , 63.2, 66.4, 69.6, 72.8, 76. , 79.2, 82.4, 85.6, 88.8, 92. ]),\n",
       " <a list of 10 Patch objects>)"
      ]
     },
     "execution_count": 15,
     "metadata": {},
     "output_type": "execute_result"
    },
    {
     "data": {
      "image/png": "[encoded data removed]",
      "text/plain": [
       "<Figure size 432x288 with 1 Axes>"
      ]
     },
     "metadata": {
      "needs_background": "light"
     },
     "output_type": "display_data"
    }
   ],
   "source": [
    "plt.hist(emp.Churn_out_rate)"
   ]
  },
  {
   "cell_type": "code",
   "execution_count": 16,
   "metadata": {},
   "outputs": [
    {
     "data": {
      "text/plain": [
       "{'whiskers': [<matplotlib.lines.Line2D at 0x17012613f88>,\n",
       "  <matplotlib.lines.Line2D at 0x17012613908>],\n",
       " 'caps': [<matplotlib.lines.Line2D at 0x17012619ac8>,\n",
       "  <matplotlib.lines.Line2D at 0x17012619fc8>],\n",
       " 'boxes': [<matplotlib.lines.Line2D at 0x17012613688>],\n",
       " 'medians': [<matplotlib.lines.Line2D at 0x17012619c48>],\n",
       " 'fliers': [<matplotlib.lines.Line2D at 0x17012620b08>],\n",
       " 'means': []}"
      ]
     },
     "execution_count": 16,
     "metadata": {},
     "output_type": "execute_result"
    },
    {
     "data": {
      "image/png": "[encoded data removed]",
      "text/plain": [
       "<Figure size 432x288 with 1 Axes>"
      ]
     },
     "metadata": {
      "needs_background": "light"
     },
     "output_type": "display_data"
    }
   ],
   "source": [
    "plt.boxplot(emp.Salary_hike)"
   ]
  },
  {
   "cell_type": "code",
   "execution_count": 17,
   "metadata": {},
   "outputs": [
    {
     "data": {
      "text/plain": [
       "{'whiskers': [<matplotlib.lines.Line2D at 0x17012680cc8>,\n",
       "  <matplotlib.lines.Line2D at 0x17012680dc8>],\n",
       " 'caps': [<matplotlib.lines.Line2D at 0x17012683c88>,\n",
       "  <matplotlib.lines.Line2D at 0x17012683d88>],\n",
       " 'boxes': [<matplotlib.lines.Line2D at 0x17012680148>],\n",
       " 'medians': [<matplotlib.lines.Line2D at 0x17012688c08>],\n",
       " 'fliers': [<matplotlib.lines.Line2D at 0x17012688d08>],\n",
       " 'means': []}"
      ]
     },
     "execution_count": 17,
     "metadata": {},
     "output_type": "execute_result"
    },
    {
     "data": {
      "image/png": "[encoded data removed]",
      "text/plain": [
       "<Figure size 432x288 with 1 Axes>"
      ]
     },
     "metadata": {
      "needs_background": "light"
     },
     "output_type": "display_data"
    }
   ],
   "source": [
    "plt.boxplot(emp.Churn_out_rate)"
   ]
  },
  {
   "cell_type": "code",
   "execution_count": 65,
   "metadata": {},
   "outputs": [
    {
     "data": {
      "text/plain": [
       "Text(0, 0.5, 'Churn_out_rate')"
      ]
     },
     "execution_count": 65,
     "metadata": {},
     "output_type": "execute_result"
    },
    {
     "data": {
      "image/png": "[encoded data removed]",
      "text/plain": [
       "<Figure size 432x288 with 1 Axes>"
      ]
     },
     "metadata": {
      "needs_background": "light"
     },
     "output_type": "display_data"
    }
   ],
   "source": [
    "plt.plot(emp.Salary_hike,emp.Churn_out_rate,\"bo\");plt.xlabel(\"Salary_hike\");plt.ylabel(\"Churn_out_rate\")"
   ]
  },
  {
   "cell_type": "code",
   "execution_count": 20,
   "metadata": {},
   "outputs": [
    {
     "data": {
      "text/plain": [
       "-0.9117216186909112"
      ]
     },
     "execution_count": 20,
     "metadata": {},
     "output_type": "execute_result"
    }
   ],
   "source": [
    "emp.Salary_hike.corr(emp.Churn_out_rate) # Negaive correlation with each other "
   ]
  },
  {
   "cell_type": "code",
   "execution_count": 3,
   "metadata": {},
   "outputs": [
    {
     "data": {
      "text/html": [
       "<div>\n",
       "<style scoped>\n",
       "    .dataframe tbody tr th:only-of-type {\n",
       "        vertical-align: middle;\n",
       "    }\n",
       "\n",
       "    .dataframe tbody tr th {\n",
       "        vertical-align: top;\n",
       "    }\n",
       "\n",
       "    .dataframe thead th {\n",
       "        text-align: right;\n",
       "    }\n",
       "</style>\n",
       "<table border=\"1\" class=\"dataframe\">\n",
       "  <thead>\n",
       "    <tr style=\"text-align: right;\">\n",
       "      <th></th>\n",
       "      <th>Salary_hike</th>\n",
       "      <th>Churn_out_rate</th>\n",
       "    </tr>\n",
       "  </thead>\n",
       "  <tbody>\n",
       "    <tr>\n",
       "      <td>0</td>\n",
       "      <td>1580</td>\n",
       "      <td>92</td>\n",
       "    </tr>\n",
       "    <tr>\n",
       "      <td>1</td>\n",
       "      <td>1600</td>\n",
       "      <td>85</td>\n",
       "    </tr>\n",
       "    <tr>\n",
       "      <td>2</td>\n",
       "      <td>1610</td>\n",
       "      <td>80</td>\n",
       "    </tr>\n",
       "    <tr>\n",
       "      <td>3</td>\n",
       "      <td>1640</td>\n",
       "      <td>75</td>\n",
       "    </tr>\n",
       "    <tr>\n",
       "      <td>4</td>\n",
       "      <td>1660</td>\n",
       "      <td>72</td>\n",
       "    </tr>\n",
       "  </tbody>\n",
       "</table>\n",
       "</div>"
      ],
      "text/plain": [
       "   Salary_hike  Churn_out_rate\n",
       "0         1580              92\n",
       "1         1600              85\n",
       "2         1610              80\n",
       "3         1640              75\n",
       "4         1660              72"
      ]
     },
     "execution_count": 3,
     "metadata": {},
     "output_type": "execute_result"
    }
   ],
   "source": [
    "emp.head()"
   ]
  },
  {
   "cell_type": "code",
   "execution_count": 4,
   "metadata": {},
   "outputs": [
    {
     "data": {
      "text/html": [
       "<div>\n",
       "<style scoped>\n",
       "    .dataframe tbody tr th:only-of-type {\n",
       "        vertical-align: middle;\n",
       "    }\n",
       "\n",
       "    .dataframe tbody tr th {\n",
       "        vertical-align: top;\n",
       "    }\n",
       "\n",
       "    .dataframe thead th {\n",
       "        text-align: right;\n",
       "    }\n",
       "</style>\n",
       "<table border=\"1\" class=\"dataframe\">\n",
       "  <thead>\n",
       "    <tr style=\"text-align: right;\">\n",
       "      <th></th>\n",
       "      <th>Salary_hike</th>\n",
       "      <th>Churn_out_rate</th>\n",
       "    </tr>\n",
       "  </thead>\n",
       "  <tbody>\n",
       "    <tr>\n",
       "      <td>5</td>\n",
       "      <td>1690</td>\n",
       "      <td>70</td>\n",
       "    </tr>\n",
       "    <tr>\n",
       "      <td>6</td>\n",
       "      <td>1706</td>\n",
       "      <td>68</td>\n",
       "    </tr>\n",
       "    <tr>\n",
       "      <td>7</td>\n",
       "      <td>1730</td>\n",
       "      <td>65</td>\n",
       "    </tr>\n",
       "    <tr>\n",
       "      <td>8</td>\n",
       "      <td>1800</td>\n",
       "      <td>62</td>\n",
       "    </tr>\n",
       "    <tr>\n",
       "      <td>9</td>\n",
       "      <td>1870</td>\n",
       "      <td>60</td>\n",
       "    </tr>\n",
       "  </tbody>\n",
       "</table>\n",
       "</div>"
      ],
      "text/plain": [
       "   Salary_hike  Churn_out_rate\n",
       "5         1690              70\n",
       "6         1706              68\n",
       "7         1730              65\n",
       "8         1800              62\n",
       "9         1870              60"
      ]
     },
     "execution_count": 4,
     "metadata": {},
     "output_type": "execute_result"
    }
   ],
   "source": [
    "emp.tail()"
   ]
  },
  {
   "cell_type": "code",
   "execution_count": 21,
   "metadata": {},
   "outputs": [],
   "source": [
    "# For preparing linear regression model we need to import the statsmodels.formula.api\n",
    "import statsmodels.formula.api as smf\n",
    "model=smf.ols(\"Churn_out_rate~Salary_hike\",data=emp).fit()"
   ]
  },
  {
   "cell_type": "code",
   "execution_count": 22,
   "metadata": {},
   "outputs": [
    {
     "data": {
      "text/plain": [
       "Intercept      244.364911\n",
       "Salary_hike     -0.101543\n",
       "dtype: float64"
      ]
     },
     "execution_count": 22,
     "metadata": {},
     "output_type": "execute_result"
    }
   ],
   "source": [
    "# For getting coefficients of the varibles used in equation\n",
    "model.params"
   ]
  },
  {
   "cell_type": "code",
   "execution_count": 23,
   "metadata": {},
   "outputs": [
    {
     "name": "stderr",
     "output_type": "stream",
     "text": [
      "C:\\Users\\anilkrishna\\Anaconda3\\lib\\site-packages\\scipy\\stats\\stats.py:1450: UserWarning: kurtosistest only valid for n>=20 ... continuing anyway, n=10\n",
      "  \"anyway, n=%i\" % int(n))\n"
     ]
    },
    {
     "data": {
      "text/html": [
       "<table class=\"simpletable\">\n",
       "<caption>OLS Regression Results</caption>\n",
       "<tr>\n",
       "  <th>Dep. Variable:</th>     <td>Churn_out_rate</td>  <th>  R-squared:         </th> <td>   0.831</td>\n",
       "</tr>\n",
       "<tr>\n",
       "  <th>Model:</th>                   <td>OLS</td>       <th>  Adj. R-squared:    </th> <td>   0.810</td>\n",
       "</tr>\n",
       "<tr>\n",
       "  <th>Method:</th>             <td>Least Squares</td>  <th>  F-statistic:       </th> <td>   39.40</td>\n",
       "</tr>\n",
       "<tr>\n",
       "  <th>Date:</th>             <td>Sun, 05 Apr 2020</td> <th>  Prob (F-statistic):</th> <td>0.000239</td>\n",
       "</tr>\n",
       "<tr>\n",
       "  <th>Time:</th>                 <td>14:12:51</td>     <th>  Log-Likelihood:    </th> <td> -28.046</td>\n",
       "</tr>\n",
       "<tr>\n",
       "  <th>No. Observations:</th>      <td>    10</td>      <th>  AIC:               </th> <td>   60.09</td>\n",
       "</tr>\n",
       "<tr>\n",
       "  <th>Df Residuals:</th>          <td>     8</td>      <th>  BIC:               </th> <td>   60.70</td>\n",
       "</tr>\n",
       "<tr>\n",
       "  <th>Df Model:</th>              <td>     1</td>      <th>                     </th>     <td> </td>   \n",
       "</tr>\n",
       "<tr>\n",
       "  <th>Covariance Type:</th>      <td>nonrobust</td>    <th>                     </th>     <td> </td>   \n",
       "</tr>\n",
       "</table>\n",
       "<table class=\"simpletable\">\n",
       "<tr>\n",
       "       <td></td>          <th>coef</th>     <th>std err</th>      <th>t</th>      <th>P>|t|</th>  <th>[0.025</th>    <th>0.975]</th>  \n",
       "</tr>\n",
       "<tr>\n",
       "  <th>Intercept</th>   <td>  244.3649</td> <td>   27.352</td> <td>    8.934</td> <td> 0.000</td> <td>  181.291</td> <td>  307.439</td>\n",
       "</tr>\n",
       "<tr>\n",
       "  <th>Salary_hike</th> <td>   -0.1015</td> <td>    0.016</td> <td>   -6.277</td> <td> 0.000</td> <td>   -0.139</td> <td>   -0.064</td>\n",
       "</tr>\n",
       "</table>\n",
       "<table class=\"simpletable\">\n",
       "<tr>\n",
       "  <th>Omnibus:</th>       <td> 2.201</td> <th>  Durbin-Watson:     </th> <td>   0.562</td>\n",
       "</tr>\n",
       "<tr>\n",
       "  <th>Prob(Omnibus):</th> <td> 0.333</td> <th>  Jarque-Bera (JB):  </th> <td>   1.408</td>\n",
       "</tr>\n",
       "<tr>\n",
       "  <th>Skew:</th>          <td> 0.851</td> <th>  Prob(JB):          </th> <td>   0.495</td>\n",
       "</tr>\n",
       "<tr>\n",
       "  <th>Kurtosis:</th>      <td> 2.304</td> <th>  Cond. No.          </th> <td>3.27e+04</td>\n",
       "</tr>\n",
       "</table><br/><br/>Warnings:<br/>[1] Standard Errors assume that the covariance matrix of the errors is correctly specified.<br/>[2] The condition number is large, 3.27e+04. This might indicate that there are<br/>strong multicollinearity or other numerical problems."
      ],
      "text/plain": [
       "<class 'statsmodels.iolib.summary.Summary'>\n",
       "\"\"\"\n",
       "                            OLS Regression Results                            \n",
       "==============================================================================\n",
       "Dep. Variable:         Churn_out_rate   R-squared:                       0.831\n",
       "Model:                            OLS   Adj. R-squared:                  0.810\n",
       "Method:                 Least Squares   F-statistic:                     39.40\n",
       "Date:                Sun, 05 Apr 2020   Prob (F-statistic):           0.000239\n",
       "Time:                        14:12:51   Log-Likelihood:                -28.046\n",
       "No. Observations:                  10   AIC:                             60.09\n",
       "Df Residuals:                       8   BIC:                             60.70\n",
       "Df Model:                           1                                         \n",
       "Covariance Type:            nonrobust                                         \n",
       "===============================================================================\n",
       "                  coef    std err          t      P>|t|      [0.025      0.975]\n",
       "-------------------------------------------------------------------------------\n",
       "Intercept     244.3649     27.352      8.934      0.000     181.291     307.439\n",
       "Salary_hike    -0.1015      0.016     -6.277      0.000      -0.139      -0.064\n",
       "==============================================================================\n",
       "Omnibus:                        2.201   Durbin-Watson:                   0.562\n",
       "Prob(Omnibus):                  0.333   Jarque-Bera (JB):                1.408\n",
       "Skew:                           0.851   Prob(JB):                        0.495\n",
       "Kurtosis:                       2.304   Cond. No.                     3.27e+04\n",
       "==============================================================================\n",
       "\n",
       "Warnings:\n",
       "[1] Standard Errors assume that the covariance matrix of the errors is correctly specified.\n",
       "[2] The condition number is large, 3.27e+04. This might indicate that there are\n",
       "strong multicollinearity or other numerical problems.\n",
       "\"\"\""
      ]
     },
     "execution_count": 23,
     "metadata": {},
     "output_type": "execute_result"
    }
   ],
   "source": [
    "# P-values for the variables and R-squared value for prepared model\n",
    "model.summary()"
   ]
  },
  {
   "cell_type": "code",
   "execution_count": 24,
   "metadata": {},
   "outputs": [
    {
     "name": "stdout",
     "output_type": "stream",
     "text": [
      "                      0           1\n",
      "Intercept    181.291232  307.438591\n",
      "Salary_hike   -0.138845   -0.064240\n"
     ]
    }
   ],
   "source": [
    "print (model.conf_int(0.05)) # 95% confidence interval"
   ]
  },
  {
   "cell_type": "code",
   "execution_count": 30,
   "metadata": {},
   "outputs": [],
   "source": [
    "pred = model.predict(emp.iloc[:,0]) # Predicted values of Salary_hike  using the model"
   ]
  },
  {
   "cell_type": "code",
   "execution_count": 31,
   "metadata": {},
   "outputs": [
    {
     "data": {
      "text/plain": [
       "Text(0, 0.5, 'Salary_hike')"
      ]
     },
     "execution_count": 31,
     "metadata": {},
     "output_type": "execute_result"
    },
    {
     "data": {
      "image/png": "[encoded data removed]",
      "text/plain": [
       "<Figure size 432x288 with 1 Axes>"
      ]
     },
     "metadata": {
      "needs_background": "light"
     },
     "output_type": "display_data"
    }
   ],
   "source": [
    "# Visualization of regresion line over the scatter plot of Churn_out_rate and Salary_hike\n",
    "# For visualization we need to import matplotlib.pyplot\n",
    "import matplotlib.pylab as plt\n",
    "plt.scatter(x=emp['Churn_out_rate'],y=emp['Salary_hike'],color='red');plt.plot(emp['Churn_out_rate'],pred,color='black');plt.xlabel('Churn_out_rate');plt.ylabel('Salary_hike')\n"
   ]
  },
  {
   "cell_type": "code",
   "execution_count": 32,
   "metadata": {},
   "outputs": [
    {
     "data": {
      "text/plain": [
       "-1.0"
      ]
     },
     "execution_count": 32,
     "metadata": {},
     "output_type": "execute_result"
    }
   ],
   "source": [
    "pred.corr(emp.Salary_hike) # -1.0"
   ]
  },
  {
   "cell_type": "code",
   "execution_count": 34,
   "metadata": {},
   "outputs": [
    {
     "data": {
      "text/html": [
       "<table class=\"simpletable\">\n",
       "<caption>OLS Regression Results</caption>\n",
       "<tr>\n",
       "  <th>Dep. Variable:</th>     <td>Churn_out_rate</td>  <th>  R-squared:         </th> <td>   0.849</td>\n",
       "</tr>\n",
       "<tr>\n",
       "  <th>Model:</th>                   <td>OLS</td>       <th>  Adj. R-squared:    </th> <td>   0.830</td>\n",
       "</tr>\n",
       "<tr>\n",
       "  <th>Method:</th>             <td>Least Squares</td>  <th>  F-statistic:       </th> <td>   44.85</td>\n",
       "</tr>\n",
       "<tr>\n",
       "  <th>Date:</th>             <td>Sun, 05 Apr 2020</td> <th>  Prob (F-statistic):</th> <td>0.000153</td>\n",
       "</tr>\n",
       "<tr>\n",
       "  <th>Time:</th>                 <td>14:36:16</td>     <th>  Log-Likelihood:    </th> <td> -27.502</td>\n",
       "</tr>\n",
       "<tr>\n",
       "  <th>No. Observations:</th>      <td>    10</td>      <th>  AIC:               </th> <td>   59.00</td>\n",
       "</tr>\n",
       "<tr>\n",
       "  <th>Df Residuals:</th>          <td>     8</td>      <th>  BIC:               </th> <td>   59.61</td>\n",
       "</tr>\n",
       "<tr>\n",
       "  <th>Df Model:</th>              <td>     1</td>      <th>                     </th>     <td> </td>   \n",
       "</tr>\n",
       "<tr>\n",
       "  <th>Covariance Type:</th>      <td>nonrobust</td>    <th>                     </th>     <td> </td>   \n",
       "</tr>\n",
       "</table>\n",
       "<table class=\"simpletable\">\n",
       "<tr>\n",
       "           <td></td>              <th>coef</th>     <th>std err</th>      <th>t</th>      <th>P>|t|</th>  <th>[0.025</th>    <th>0.975]</th>  \n",
       "</tr>\n",
       "<tr>\n",
       "  <th>Intercept</th>           <td> 1381.4562</td> <td>  195.402</td> <td>    7.070</td> <td> 0.000</td> <td>  930.858</td> <td> 1832.054</td>\n",
       "</tr>\n",
       "<tr>\n",
       "  <th>np.log(Salary_hike)</th> <td> -176.1097</td> <td>   26.297</td> <td>   -6.697</td> <td> 0.000</td> <td> -236.751</td> <td> -115.468</td>\n",
       "</tr>\n",
       "</table>\n",
       "<table class=\"simpletable\">\n",
       "<tr>\n",
       "  <th>Omnibus:</th>       <td> 2.213</td> <th>  Durbin-Watson:     </th> <td>   0.571</td>\n",
       "</tr>\n",
       "<tr>\n",
       "  <th>Prob(Omnibus):</th> <td> 0.331</td> <th>  Jarque-Bera (JB):  </th> <td>   1.418</td>\n",
       "</tr>\n",
       "<tr>\n",
       "  <th>Skew:</th>          <td> 0.853</td> <th>  Prob(JB):          </th> <td>   0.492</td>\n",
       "</tr>\n",
       "<tr>\n",
       "  <th>Kurtosis:</th>      <td> 2.298</td> <th>  Cond. No.          </th> <td>1.10e+03</td>\n",
       "</tr>\n",
       "</table><br/><br/>Warnings:<br/>[1] Standard Errors assume that the covariance matrix of the errors is correctly specified.<br/>[2] The condition number is large, 1.1e+03. This might indicate that there are<br/>strong multicollinearity or other numerical problems."
      ],
      "text/plain": [
       "<class 'statsmodels.iolib.summary.Summary'>\n",
       "\"\"\"\n",
       "                            OLS Regression Results                            \n",
       "==============================================================================\n",
       "Dep. Variable:         Churn_out_rate   R-squared:                       0.849\n",
       "Model:                            OLS   Adj. R-squared:                  0.830\n",
       "Method:                 Least Squares   F-statistic:                     44.85\n",
       "Date:                Sun, 05 Apr 2020   Prob (F-statistic):           0.000153\n",
       "Time:                        14:36:16   Log-Likelihood:                -27.502\n",
       "No. Observations:                  10   AIC:                             59.00\n",
       "Df Residuals:                       8   BIC:                             59.61\n",
       "Df Model:                           1                                         \n",
       "Covariance Type:            nonrobust                                         \n",
       "=======================================================================================\n",
       "                          coef    std err          t      P>|t|      [0.025      0.975]\n",
       "---------------------------------------------------------------------------------------\n",
       "Intercept            1381.4562    195.402      7.070      0.000     930.858    1832.054\n",
       "np.log(Salary_hike)  -176.1097     26.297     -6.697      0.000    -236.751    -115.468\n",
       "==============================================================================\n",
       "Omnibus:                        2.213   Durbin-Watson:                   0.571\n",
       "Prob(Omnibus):                  0.331   Jarque-Bera (JB):                1.418\n",
       "Skew:                           0.853   Prob(JB):                        0.492\n",
       "Kurtosis:                       2.298   Cond. No.                     1.10e+03\n",
       "==============================================================================\n",
       "\n",
       "Warnings:\n",
       "[1] Standard Errors assume that the covariance matrix of the errors is correctly specified.\n",
       "[2] The condition number is large, 1.1e+03. This might indicate that there are\n",
       "strong multicollinearity or other numerical problems.\n",
       "\"\"\""
      ]
     },
     "execution_count": 34,
     "metadata": {},
     "output_type": "execute_result"
    }
   ],
   "source": [
    "# Transforming variables for accuracy\n",
    "model2 = smf.ols('Churn_out_rate~np.log(Salary_hike)',data=emp).fit()\n",
    "model2.params\n",
    "model2.summary()"
   ]
  },
  {
   "cell_type": "code",
   "execution_count": 35,
   "metadata": {},
   "outputs": [
    {
     "name": "stdout",
     "output_type": "stream",
     "text": [
      "                              0            1\n",
      "Intercept            725.806856  2037.105529\n",
      "np.log(Salary_hike) -264.347078   -87.872392\n"
     ]
    }
   ],
   "source": [
    "print(model2.conf_int(0.01)) # 99% confidence level\n"
   ]
  },
  {
   "cell_type": "code",
   "execution_count": 37,
   "metadata": {},
   "outputs": [
    {
     "data": {
      "text/plain": [
       "0    84.376270\n",
       "1    82.161024\n",
       "2    81.063764\n",
       "3    77.812415\n",
       "4    75.677725\n",
       "5    72.523437\n",
       "6    70.863969\n",
       "7    68.403723\n",
       "8    61.418285\n",
       "9    54.699388\n",
       "dtype: float64"
      ]
     },
     "execution_count": 37,
     "metadata": {},
     "output_type": "execute_result"
    }
   ],
   "source": [
    "pred2 = model2.predict(pd.DataFrame(emp['Salary_hike']))\n",
    "pred2.corr(emp.Churn_out_rate)\n",
    "# pred2 = model2.predict(wcat.iloc[:,0])\n",
    "pred2"
   ]
  },
  {
   "cell_type": "code",
   "execution_count": 39,
   "metadata": {},
   "outputs": [
    {
     "data": {
      "text/plain": [
       "Text(0, 0.5, 'Churn_out_rate')"
      ]
     },
     "execution_count": 39,
     "metadata": {},
     "output_type": "execute_result"
    },
    {
     "data": {
      "image/png": "[encoded data removed]",
      "text/plain": [
       "<Figure size 432x288 with 1 Axes>"
      ]
     },
     "metadata": {
      "needs_background": "light"
     },
     "output_type": "display_data"
    }
   ],
   "source": [
    "plt.scatter(x=emp['Salary_hike'],y=emp['Churn_out_rate'],color='green');plt.plot(emp['Salary_hike'],pred2,color='blue');plt.xlabel('Salary_hike');plt.ylabel('Churn_out_rate')\n"
   ]
  },
  {
   "cell_type": "markdown",
   "metadata": {},
   "source": [
    "# Exponential Transform "
   ]
  },
  {
   "cell_type": "code",
   "execution_count": 40,
   "metadata": {},
   "outputs": [
    {
     "data": {
      "text/html": [
       "<table class=\"simpletable\">\n",
       "<caption>OLS Regression Results</caption>\n",
       "<tr>\n",
       "  <th>Dep. Variable:</th>    <td>np.log(Churn_out_rate)</td> <th>  R-squared:         </th> <td>   0.874</td>\n",
       "</tr>\n",
       "<tr>\n",
       "  <th>Model:</th>                      <td>OLS</td>          <th>  Adj. R-squared:    </th> <td>   0.858</td>\n",
       "</tr>\n",
       "<tr>\n",
       "  <th>Method:</th>                <td>Least Squares</td>     <th>  F-statistic:       </th> <td>   55.26</td>\n",
       "</tr>\n",
       "<tr>\n",
       "  <th>Date:</th>                <td>Sun, 05 Apr 2020</td>    <th>  Prob (F-statistic):</th> <td>7.38e-05</td>\n",
       "</tr>\n",
       "<tr>\n",
       "  <th>Time:</th>                    <td>14:45:13</td>        <th>  Log-Likelihood:    </th> <td>  16.511</td>\n",
       "</tr>\n",
       "<tr>\n",
       "  <th>No. Observations:</th>         <td>    10</td>         <th>  AIC:               </th> <td>  -29.02</td>\n",
       "</tr>\n",
       "<tr>\n",
       "  <th>Df Residuals:</th>             <td>     8</td>         <th>  BIC:               </th> <td>  -28.42</td>\n",
       "</tr>\n",
       "<tr>\n",
       "  <th>Df Model:</th>                 <td>     1</td>         <th>                     </th>     <td> </td>   \n",
       "</tr>\n",
       "<tr>\n",
       "  <th>Covariance Type:</th>         <td>nonrobust</td>       <th>                     </th>     <td> </td>   \n",
       "</tr>\n",
       "</table>\n",
       "<table class=\"simpletable\">\n",
       "<tr>\n",
       "       <td></td>          <th>coef</th>     <th>std err</th>      <th>t</th>      <th>P>|t|</th>  <th>[0.025</th>    <th>0.975]</th>  \n",
       "</tr>\n",
       "<tr>\n",
       "  <th>Intercept</th>   <td>    6.6383</td> <td>    0.318</td> <td>   20.902</td> <td> 0.000</td> <td>    5.906</td> <td>    7.371</td>\n",
       "</tr>\n",
       "<tr>\n",
       "  <th>Salary_hike</th> <td>   -0.0014</td> <td>    0.000</td> <td>   -7.434</td> <td> 0.000</td> <td>   -0.002</td> <td>   -0.001</td>\n",
       "</tr>\n",
       "</table>\n",
       "<table class=\"simpletable\">\n",
       "<tr>\n",
       "  <th>Omnibus:</th>       <td> 1.935</td> <th>  Durbin-Watson:     </th> <td>   0.585</td>\n",
       "</tr>\n",
       "<tr>\n",
       "  <th>Prob(Omnibus):</th> <td> 0.380</td> <th>  Jarque-Bera (JB):  </th> <td>   1.314</td>\n",
       "</tr>\n",
       "<tr>\n",
       "  <th>Skew:</th>          <td> 0.780</td> <th>  Prob(JB):          </th> <td>   0.519</td>\n",
       "</tr>\n",
       "<tr>\n",
       "  <th>Kurtosis:</th>      <td> 2.152</td> <th>  Cond. No.          </th> <td>3.27e+04</td>\n",
       "</tr>\n",
       "</table><br/><br/>Warnings:<br/>[1] Standard Errors assume that the covariance matrix of the errors is correctly specified.<br/>[2] The condition number is large, 3.27e+04. This might indicate that there are<br/>strong multicollinearity or other numerical problems."
      ],
      "text/plain": [
       "<class 'statsmodels.iolib.summary.Summary'>\n",
       "\"\"\"\n",
       "                              OLS Regression Results                              \n",
       "==================================================================================\n",
       "Dep. Variable:     np.log(Churn_out_rate)   R-squared:                       0.874\n",
       "Model:                                OLS   Adj. R-squared:                  0.858\n",
       "Method:                     Least Squares   F-statistic:                     55.26\n",
       "Date:                    Sun, 05 Apr 2020   Prob (F-statistic):           7.38e-05\n",
       "Time:                            14:45:13   Log-Likelihood:                 16.511\n",
       "No. Observations:                      10   AIC:                            -29.02\n",
       "Df Residuals:                           8   BIC:                            -28.42\n",
       "Df Model:                               1                                         \n",
       "Covariance Type:                nonrobust                                         \n",
       "===============================================================================\n",
       "                  coef    std err          t      P>|t|      [0.025      0.975]\n",
       "-------------------------------------------------------------------------------\n",
       "Intercept       6.6383      0.318     20.902      0.000       5.906       7.371\n",
       "Salary_hike    -0.0014      0.000     -7.434      0.000      -0.002      -0.001\n",
       "==============================================================================\n",
       "Omnibus:                        1.935   Durbin-Watson:                   0.585\n",
       "Prob(Omnibus):                  0.380   Jarque-Bera (JB):                1.314\n",
       "Skew:                           0.780   Prob(JB):                        0.519\n",
       "Kurtosis:                       2.152   Cond. No.                     3.27e+04\n",
       "==============================================================================\n",
       "\n",
       "Warnings:\n",
       "[1] Standard Errors assume that the covariance matrix of the errors is correctly specified.\n",
       "[2] The condition number is large, 3.27e+04. This might indicate that there are\n",
       "strong multicollinearity or other numerical problems.\n",
       "\"\"\""
      ]
     },
     "execution_count": 40,
     "metadata": {},
     "output_type": "execute_result"
    }
   ],
   "source": [
    "# Exponential transformation\n",
    "model3 = smf.ols('np.log(Churn_out_rate)~Salary_hike',data=emp).fit()\n",
    "model3.params\n",
    "model3.summary()"
   ]
  },
  {
   "cell_type": "code",
   "execution_count": 41,
   "metadata": {},
   "outputs": [
    {
     "name": "stdout",
     "output_type": "stream",
     "text": [
      "                    0         1\n",
      "Intercept    5.572635  7.703965\n",
      "Salary_hike -0.002027 -0.000766\n"
     ]
    }
   ],
   "source": [
    "print(model3.conf_int(0.01)) # 99% confidence level\n"
   ]
  },
  {
   "cell_type": "code",
   "execution_count": 42,
   "metadata": {},
   "outputs": [
    {
     "data": {
      "text/plain": [
       "0    4.432091\n",
       "1    4.404164\n",
       "2    4.390201\n",
       "3    4.348311\n",
       "4    4.320384\n",
       "5    4.278494\n",
       "6    4.256153\n",
       "7    4.222641\n",
       "8    4.124897\n",
       "9    4.027154\n",
       "dtype: float64"
      ]
     },
     "execution_count": 42,
     "metadata": {},
     "output_type": "execute_result"
    }
   ],
   "source": [
    "pred_log = model3.predict(pd.DataFrame(emp['Salary_hike']))\n",
    "pred_log\n"
   ]
  },
  {
   "cell_type": "code",
   "execution_count": 43,
   "metadata": {},
   "outputs": [
    {
     "data": {
      "text/plain": [
       "0.9334219364827092"
      ]
     },
     "execution_count": 43,
     "metadata": {},
     "output_type": "execute_result"
    }
   ],
   "source": [
    "pred3=np.exp(pred_log)  # as we have used log(churn_out_rate) in preparing model so we need to convert it back\n",
    "pred3\n",
    "pred3.corr(emp.Churn_out_rate)"
   ]
  },
  {
   "cell_type": "code",
   "execution_count": 45,
   "metadata": {},
   "outputs": [
    {
     "data": {
      "text/plain": [
       "Text(0, 0.5, 'Churn_out_rate')"
      ]
     },
     "execution_count": 45,
     "metadata": {},
     "output_type": "execute_result"
    },
    {
     "data": {
      "image/png": "[encoded data removed]",
      "text/plain": [
       "<Figure size 432x288 with 1 Axes>"
      ]
     },
     "metadata": {
      "needs_background": "light"
     },
     "output_type": "display_data"
    }
   ],
   "source": [
    "plt.scatter(x=emp['Salary_hike'],y=emp['Churn_out_rate'],color='green');plt.plot(emp.Salary_hike,pred3,color='blue');plt.xlabel('Salary_hike');plt.ylabel('Churn_out_rate')\n"
   ]
  },
  {
   "cell_type": "markdown",
   "metadata": {},
   "source": [
    "# so we will consider the model having highest R-Squared value which is the log transformation - model3\n",
    "# getting residuals of the entire data set"
   ]
  },
  {
   "cell_type": "code",
   "execution_count": 46,
   "metadata": {},
   "outputs": [
    {
     "data": {
      "text/plain": [
       "array([ 1.72840047,  0.74161333, -0.15751152, -0.59392927, -0.84241119,\n",
       "       -0.57805397, -0.70612046, -0.92980489,  0.04310705,  1.29471045])"
      ]
     },
     "execution_count": 46,
     "metadata": {},
     "output_type": "execute_result"
    }
   ],
   "source": [
    "student_resid = model3.resid_pearson \n",
    "student_resid\n"
   ]
  },
  {
   "cell_type": "code",
   "execution_count": 47,
   "metadata": {},
   "outputs": [
    {
     "data": {
      "text/plain": [
       "Text(0, 0.5, 'Standardized Residual')"
      ]
     },
     "execution_count": 47,
     "metadata": {},
     "output_type": "execute_result"
    },
    {
     "data": {
      "image/png": "[encoded data removed]",
      "text/plain": [
       "<Figure size 432x288 with 1 Axes>"
      ]
     },
     "metadata": {
      "needs_background": "light"
     },
     "output_type": "display_data"
    }
   ],
   "source": [
    "plt.plot(model3.resid_pearson,'o');plt.axhline(y=0,color='green');plt.xlabel(\"Observation Number\");plt.ylabel(\"Standardized Residual\")\n"
   ]
  },
  {
   "cell_type": "code",
   "execution_count": 49,
   "metadata": {},
   "outputs": [
    {
     "data": {
      "text/plain": [
       "Text(0, 0.5, 'Actual')"
      ]
     },
     "execution_count": 49,
     "metadata": {},
     "output_type": "execute_result"
    },
    {
     "data": {
      "image/png": "[encoded data removed]",
      "text/plain": [
       "<Figure size 432x288 with 1 Axes>"
      ]
     },
     "metadata": {
      "needs_background": "light"
     },
     "output_type": "display_data"
    }
   ],
   "source": [
    "# Predicted vs actual values\n",
    "plt.scatter(x=pred3,y=emp.Churn_out_rate);plt.xlabel(\"Predicted\");plt.ylabel(\"Actual\")"
   ]
  },
  {
   "cell_type": "markdown",
   "metadata": {},
   "source": [
    "# # Quadratic model"
   ]
  },
  {
   "cell_type": "code",
   "execution_count": 54,
   "metadata": {},
   "outputs": [],
   "source": [
    "# Quadratic model\n",
    "emp[\"Salary_hike_Sq\"] = emp.Salary_hike*emp.Salary_hike\n"
   ]
  },
  {
   "cell_type": "code",
   "execution_count": 55,
   "metadata": {},
   "outputs": [
    {
     "data": {
      "text/plain": [
       "Intercept         23.176235\n",
       "Salary_hike       -0.020680\n",
       "Salary_hike_Sq     0.000006\n",
       "dtype: float64"
      ]
     },
     "execution_count": 55,
     "metadata": {},
     "output_type": "execute_result"
    }
   ],
   "source": [
    "model_quad = smf.ols(\"np.log(Churn_out_rate)~Salary_hike+Salary_hike_Sq\",data=emp).fit()\n",
    "model_quad.params\n"
   ]
  },
  {
   "cell_type": "code",
   "execution_count": 56,
   "metadata": {},
   "outputs": [
    {
     "data": {
      "text/html": [
       "<table class=\"simpletable\">\n",
       "<caption>OLS Regression Results</caption>\n",
       "<tr>\n",
       "  <th>Dep. Variable:</th>    <td>np.log(Churn_out_rate)</td> <th>  R-squared:         </th> <td>   0.984</td>\n",
       "</tr>\n",
       "<tr>\n",
       "  <th>Model:</th>                      <td>OLS</td>          <th>  Adj. R-squared:    </th> <td>   0.979</td>\n",
       "</tr>\n",
       "<tr>\n",
       "  <th>Method:</th>                <td>Least Squares</td>     <th>  F-statistic:       </th> <td>   210.1</td>\n",
       "</tr>\n",
       "<tr>\n",
       "  <th>Date:</th>                <td>Sun, 05 Apr 2020</td>    <th>  Prob (F-statistic):</th> <td>5.63e-07</td>\n",
       "</tr>\n",
       "<tr>\n",
       "  <th>Time:</th>                    <td>15:22:47</td>        <th>  Log-Likelihood:    </th> <td>  26.728</td>\n",
       "</tr>\n",
       "<tr>\n",
       "  <th>No. Observations:</th>         <td>    10</td>         <th>  AIC:               </th> <td>  -47.46</td>\n",
       "</tr>\n",
       "<tr>\n",
       "  <th>Df Residuals:</th>             <td>     7</td>         <th>  BIC:               </th> <td>  -46.55</td>\n",
       "</tr>\n",
       "<tr>\n",
       "  <th>Df Model:</th>                 <td>     2</td>         <th>                     </th>     <td> </td>   \n",
       "</tr>\n",
       "<tr>\n",
       "  <th>Covariance Type:</th>         <td>nonrobust</td>       <th>                     </th>     <td> </td>   \n",
       "</tr>\n",
       "</table>\n",
       "<table class=\"simpletable\">\n",
       "<tr>\n",
       "         <td></td>           <th>coef</th>     <th>std err</th>      <th>t</th>      <th>P>|t|</th>  <th>[0.025</th>    <th>0.975]</th>  \n",
       "</tr>\n",
       "<tr>\n",
       "  <th>Intercept</th>      <td>   23.1762</td> <td>    2.415</td> <td>    9.597</td> <td> 0.000</td> <td>   17.466</td> <td>   28.887</td>\n",
       "</tr>\n",
       "<tr>\n",
       "  <th>Salary_hike</th>    <td>   -0.0207</td> <td>    0.003</td> <td>   -7.351</td> <td> 0.000</td> <td>   -0.027</td> <td>   -0.014</td>\n",
       "</tr>\n",
       "<tr>\n",
       "  <th>Salary_hike_Sq</th> <td> 5.605e-06</td> <td> 8.17e-07</td> <td>    6.857</td> <td> 0.000</td> <td> 3.67e-06</td> <td> 7.54e-06</td>\n",
       "</tr>\n",
       "</table>\n",
       "<table class=\"simpletable\">\n",
       "<tr>\n",
       "  <th>Omnibus:</th>       <td> 0.520</td> <th>  Durbin-Watson:     </th> <td>   1.272</td>\n",
       "</tr>\n",
       "<tr>\n",
       "  <th>Prob(Omnibus):</th> <td> 0.771</td> <th>  Jarque-Bera (JB):  </th> <td>   0.506</td>\n",
       "</tr>\n",
       "<tr>\n",
       "  <th>Skew:</th>          <td>-0.088</td> <th>  Prob(JB):          </th> <td>   0.777</td>\n",
       "</tr>\n",
       "<tr>\n",
       "  <th>Kurtosis:</th>      <td> 1.913</td> <th>  Cond. No.          </th> <td>1.10e+09</td>\n",
       "</tr>\n",
       "</table><br/><br/>Warnings:<br/>[1] Standard Errors assume that the covariance matrix of the errors is correctly specified.<br/>[2] The condition number is large, 1.1e+09. This might indicate that there are<br/>strong multicollinearity or other numerical problems."
      ],
      "text/plain": [
       "<class 'statsmodels.iolib.summary.Summary'>\n",
       "\"\"\"\n",
       "                              OLS Regression Results                              \n",
       "==================================================================================\n",
       "Dep. Variable:     np.log(Churn_out_rate)   R-squared:                       0.984\n",
       "Model:                                OLS   Adj. R-squared:                  0.979\n",
       "Method:                     Least Squares   F-statistic:                     210.1\n",
       "Date:                    Sun, 05 Apr 2020   Prob (F-statistic):           5.63e-07\n",
       "Time:                            15:22:47   Log-Likelihood:                 26.728\n",
       "No. Observations:                      10   AIC:                            -47.46\n",
       "Df Residuals:                           7   BIC:                            -46.55\n",
       "Df Model:                               2                                         \n",
       "Covariance Type:                nonrobust                                         \n",
       "==================================================================================\n",
       "                     coef    std err          t      P>|t|      [0.025      0.975]\n",
       "----------------------------------------------------------------------------------\n",
       "Intercept         23.1762      2.415      9.597      0.000      17.466      28.887\n",
       "Salary_hike       -0.0207      0.003     -7.351      0.000      -0.027      -0.014\n",
       "Salary_hike_Sq  5.605e-06   8.17e-07      6.857      0.000    3.67e-06    7.54e-06\n",
       "==============================================================================\n",
       "Omnibus:                        0.520   Durbin-Watson:                   1.272\n",
       "Prob(Omnibus):                  0.771   Jarque-Bera (JB):                0.506\n",
       "Skew:                          -0.088   Prob(JB):                        0.777\n",
       "Kurtosis:                       1.913   Cond. No.                     1.10e+09\n",
       "==============================================================================\n",
       "\n",
       "Warnings:\n",
       "[1] Standard Errors assume that the covariance matrix of the errors is correctly specified.\n",
       "[2] The condition number is large, 1.1e+09. This might indicate that there are\n",
       "strong multicollinearity or other numerical problems.\n",
       "\"\"\""
      ]
     },
     "execution_count": 56,
     "metadata": {},
     "output_type": "execute_result"
    }
   ],
   "source": [
    "model_quad.summary()"
   ]
  },
  {
   "cell_type": "code",
   "execution_count": 58,
   "metadata": {},
   "outputs": [],
   "source": [
    "pred_quad = model_quad.predict(emp)"
   ]
  },
  {
   "cell_type": "code",
   "execution_count": 59,
   "metadata": {},
   "outputs": [
    {
     "data": {
      "text/html": [
       "<div>\n",
       "<style scoped>\n",
       "    .dataframe tbody tr th:only-of-type {\n",
       "        vertical-align: middle;\n",
       "    }\n",
       "\n",
       "    .dataframe tbody tr th {\n",
       "        vertical-align: top;\n",
       "    }\n",
       "\n",
       "    .dataframe thead th {\n",
       "        text-align: right;\n",
       "    }\n",
       "</style>\n",
       "<table border=\"1\" class=\"dataframe\">\n",
       "  <thead>\n",
       "    <tr style=\"text-align: right;\">\n",
       "      <th></th>\n",
       "      <th>0</th>\n",
       "      <th>1</th>\n",
       "    </tr>\n",
       "  </thead>\n",
       "  <tbody>\n",
       "    <tr>\n",
       "      <td>Intercept</td>\n",
       "      <td>17.465629</td>\n",
       "      <td>28.886840</td>\n",
       "    </tr>\n",
       "    <tr>\n",
       "      <td>Salary_hike</td>\n",
       "      <td>-0.027333</td>\n",
       "      <td>-0.014028</td>\n",
       "    </tr>\n",
       "    <tr>\n",
       "      <td>Salary_hike_Sq</td>\n",
       "      <td>0.000004</td>\n",
       "      <td>0.000008</td>\n",
       "    </tr>\n",
       "  </tbody>\n",
       "</table>\n",
       "</div>"
      ],
      "text/plain": [
       "                        0          1\n",
       "Intercept       17.465629  28.886840\n",
       "Salary_hike     -0.027333  -0.014028\n",
       "Salary_hike_Sq   0.000004   0.000008"
      ]
     },
     "execution_count": 59,
     "metadata": {},
     "output_type": "execute_result"
    }
   ],
   "source": [
    "model_quad.conf_int(0.05) "
   ]
  },
  {
   "cell_type": "code",
   "execution_count": 60,
   "metadata": {},
   "outputs": [
    {
     "data": {
      "text/plain": [
       "[<matplotlib.lines.Line2D at 0x17014f64748>]"
      ]
     },
     "execution_count": 60,
     "metadata": {},
     "output_type": "execute_result"
    },
    {
     "data": {
      "image/png": "[encoded data removed]",
      "text/plain": [
       "<Figure size 432x288 with 1 Axes>"
      ]
     },
     "metadata": {
      "needs_background": "light"
     },
     "output_type": "display_data"
    }
   ],
   "source": [
    "plt.scatter(emp.Salary_hike,emp.Churn_out_rate,c=\"b\");plt.plot(emp.Salary_hike,pred_quad,\"r\")"
   ]
  },
  {
   "cell_type": "code",
   "execution_count": 64,
   "metadata": {},
   "outputs": [
    {
     "data": {
      "text/plain": [
       "(array([1., 1., 1., 1., 1., 0., 2., 2., 0., 1.]),\n",
       " array([-1.39581013e+00, -1.11662435e+00, -8.37438557e-01, -5.58252769e-01,\n",
       "        -2.79066981e-01,  1.18806762e-04,  2.79304595e-01,  5.58490383e-01,\n",
       "         8.37676171e-01,  1.11686196e+00,  1.39604775e+00]),\n",
       " <a list of 10 Patch objects>)"
      ]
     },
     "execution_count": 64,
     "metadata": {},
     "output_type": "execute_result"
    },
    {
     "data": {
      "image/png": "[encoded data removed]",
      "text/plain": [
       "<Figure size 432x288 with 1 Axes>"
      ]
     },
     "metadata": {
      "needs_background": "light"
     },
     "output_type": "display_data"
    }
   ],
   "source": [
    "plt.hist(model_quad.resid_pearson) # histogram for residual values "
   ]
  },
  {
   "cell_type": "markdown",
   "metadata": {},
   "source": [
    "# Conclusion: statistically Proved That Salary Hike (sh) Increases ,Decrease The Chur out rate(cor)\n",
    "#  my model3 gave me 87% Accuracy and Also p value very low "
   ]
  },
  {
   "cell_type": "code",
   "execution_count": null,
   "metadata": {},
   "outputs": [],
   "source": []
  }
 ],
 "metadata": {
  "kernelspec": {
   "display_name": "Python 3",
   "language": "python",
   "name": "python3"
  },
  "language_info": {
   "codemirror_mode": {
    "name": "ipython",
    "version": 3
   },
   "file_extension": ".py",
   "mimetype": "text/x-python",
   "name": "python",
   "nbconvert_exporter": "python",
   "pygments_lexer": "ipython3",
   "version": "3.7.4"
  }
 },
 "nbformat": 4,
 "nbformat_minor": 2
}
